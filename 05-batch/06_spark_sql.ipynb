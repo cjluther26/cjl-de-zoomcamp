{
 "cells": [
  {
   "cell_type": "code",
   "execution_count": 1,
   "id": "1eca3ffa",
   "metadata": {},
   "outputs": [],
   "source": [
    "import pyspark\n",
    "from pyspark.sql import SparkSession"
   ]
  },
  {
   "cell_type": "code",
   "execution_count": 2,
   "id": "20763ce6",
   "metadata": {},
   "outputs": [
    {
     "name": "stderr",
     "output_type": "stream",
     "text": [
      "Setting default log level to \"WARN\".\n",
      "To adjust logging level use sc.setLogLevel(newLevel). For SparkR, use setLogLevel(newLevel).\n",
      "25/03/09 14:33:57 WARN NativeCodeLoader: Unable to load native-hadoop library for your platform... using builtin-java classes where applicable\n",
      "25/03/09 14:33:57 WARN Utils: Service 'SparkUI' could not bind on port 4040. Attempting port 4041.\n"
     ]
    }
   ],
   "source": [
    "spark = SparkSession.builder \\\n",
    "    .master(\"local[*]\") \\\n",
    "    .appName('test') \\\n",
    "    .getOrCreate()"
   ]
  },
  {
   "cell_type": "code",
   "execution_count": 3,
   "id": "303ee506",
   "metadata": {},
   "outputs": [],
   "source": [
    "df_green = spark.read.parquet('data/pq/green/*/*')"
   ]
  },
  {
   "cell_type": "code",
   "execution_count": 4,
   "id": "4052dffd",
   "metadata": {},
   "outputs": [],
   "source": [
    "df_yellow = spark.read.parquet('data/pq/yellow/*/*')"
   ]
  },
  {
   "cell_type": "code",
   "execution_count": 5,
   "id": "3113b788",
   "metadata": {},
   "outputs": [
    {
     "name": "stdout",
     "output_type": "stream",
     "text": [
      "root\n",
      " |-- VendorID: integer (nullable = true)\n",
      " |-- lpep_pickup_datetime: timestamp (nullable = true)\n",
      " |-- lpep_dropoff_datetime: timestamp (nullable = true)\n",
      " |-- store_and_fwd_flag: string (nullable = true)\n",
      " |-- RatecodeID: integer (nullable = true)\n",
      " |-- PULocationID: integer (nullable = true)\n",
      " |-- DOLocationID: integer (nullable = true)\n",
      " |-- passenger_count: integer (nullable = true)\n",
      " |-- trip_distance: double (nullable = true)\n",
      " |-- fare_amount: double (nullable = true)\n",
      " |-- extra: double (nullable = true)\n",
      " |-- mta_tax: double (nullable = true)\n",
      " |-- tip_amount: double (nullable = true)\n",
      " |-- tolls_amount: double (nullable = true)\n",
      " |-- ehail_fee: double (nullable = true)\n",
      " |-- improvement_surcharge: double (nullable = true)\n",
      " |-- total_amount: double (nullable = true)\n",
      " |-- payment_type: integer (nullable = true)\n",
      " |-- trip_type: integer (nullable = true)\n",
      " |-- congestion_surcharge: double (nullable = true)\n",
      "\n"
     ]
    }
   ],
   "source": [
    "df_green.printSchema()\n",
    "# df_green.columns"
   ]
  },
  {
   "cell_type": "code",
   "execution_count": 6,
   "id": "8b7f62a2",
   "metadata": {},
   "outputs": [
    {
     "name": "stdout",
     "output_type": "stream",
     "text": [
      "root\n",
      " |-- VendorID: integer (nullable = true)\n",
      " |-- tpep_pickup_datetime: timestamp (nullable = true)\n",
      " |-- tpep_dropoff_datetime: timestamp (nullable = true)\n",
      " |-- passenger_count: integer (nullable = true)\n",
      " |-- trip_distance: double (nullable = true)\n",
      " |-- RatecodeID: integer (nullable = true)\n",
      " |-- store_and_fwd_flag: string (nullable = true)\n",
      " |-- PULocationID: integer (nullable = true)\n",
      " |-- DOLocationID: integer (nullable = true)\n",
      " |-- payment_type: integer (nullable = true)\n",
      " |-- fare_amount: double (nullable = true)\n",
      " |-- extra: double (nullable = true)\n",
      " |-- mta_tax: double (nullable = true)\n",
      " |-- tip_amount: double (nullable = true)\n",
      " |-- tolls_amount: double (nullable = true)\n",
      " |-- improvement_surcharge: double (nullable = true)\n",
      " |-- total_amount: double (nullable = true)\n",
      " |-- congestion_surcharge: double (nullable = true)\n",
      "\n"
     ]
    }
   ],
   "source": [
    "df_yellow.printSchema()\n",
    "# df_yellow.columns"
   ]
  },
  {
   "cell_type": "code",
   "execution_count": 7,
   "id": "cabb5716",
   "metadata": {},
   "outputs": [
    {
     "data": {
      "text/plain": [
       "{'DOLocationID',\n",
       " 'PULocationID',\n",
       " 'RatecodeID',\n",
       " 'VendorID',\n",
       " 'congestion_surcharge',\n",
       " 'dropoff_datetime',\n",
       " 'extra',\n",
       " 'fare_amount',\n",
       " 'improvement_surcharge',\n",
       " 'mta_tax',\n",
       " 'passenger_count',\n",
       " 'payment_type',\n",
       " 'pickup_datetime',\n",
       " 'store_and_fwd_flag',\n",
       " 'tip_amount',\n",
       " 'tolls_amount',\n",
       " 'total_amount',\n",
       " 'trip_distance'}"
      ]
     },
     "execution_count": 7,
     "metadata": {},
     "output_type": "execute_result"
    }
   ],
   "source": [
    "##### Get common columns \n",
    "\n",
    "# Change datetimes to 'pickup_datetime' and 'dropoff_datetime'\n",
    "df_green = df_green \\\n",
    "    .withColumnRenamed('lpep_pickup_datetime', 'pickup_datetime') \\\n",
    "    .withColumnRenamed('lpep_dropoff_datetime', 'dropoff_datetime')\n",
    "\n",
    "df_yellow = df_yellow \\\n",
    "    .withColumnRenamed('tpep_pickup_datetime', 'pickup_datetime') \\\n",
    "    .withColumnRenamed('tpep_dropoff_datetime', 'dropoff_datetime')\n",
    "\n",
    "set(df_green.columns) & set(df_yellow.columns)\n"
   ]
  },
  {
   "cell_type": "code",
   "execution_count": 8,
   "id": "216c460e",
   "metadata": {},
   "outputs": [
    {
     "data": {
      "text/plain": [
       "['VendorID',\n",
       " 'pickup_datetime',\n",
       " 'dropoff_datetime',\n",
       " 'store_and_fwd_flag',\n",
       " 'RatecodeID',\n",
       " 'PULocationID',\n",
       " 'DOLocationID',\n",
       " 'passenger_count',\n",
       " 'trip_distance',\n",
       " 'fare_amount',\n",
       " 'extra',\n",
       " 'mta_tax',\n",
       " 'tip_amount',\n",
       " 'tolls_amount',\n",
       " 'improvement_surcharge',\n",
       " 'total_amount',\n",
       " 'payment_type',\n",
       " 'congestion_surcharge']"
      ]
     },
     "execution_count": 8,
     "metadata": {},
     "output_type": "execute_result"
    }
   ],
   "source": [
    "# Saving common columns (preserving order!)\n",
    "common_columns = []\n",
    "\n",
    "yellow_columns = set(df_yellow.columns)\n",
    "\n",
    "for col in df_green.columns: \n",
    "    if col in yellow_columns:\n",
    "        common_columns.append(col)\n",
    "        \n",
    "common_columns"
   ]
  },
  {
   "cell_type": "code",
   "execution_count": 9,
   "id": "be5ef44c",
   "metadata": {},
   "outputs": [],
   "source": [
    "from pyspark.sql import functions as F"
   ]
  },
  {
   "cell_type": "code",
   "execution_count": 10,
   "id": "3c58564d",
   "metadata": {},
   "outputs": [],
   "source": [
    "df_green_sel = df_green \\\n",
    "    .select(common_columns) \\\n",
    "    .withColumn('service_type', F.lit('green'))\n",
    "\n",
    "df_yellow_sel = df_yellow \\\n",
    "    .select(common_columns) \\\n",
    "    .withColumn('service_type', F.lit('yellow'))\n",
    "\n",
    "df_trips_data = df_green_sel.unionAll(df_yellow_sel)"
   ]
  },
  {
   "cell_type": "code",
   "execution_count": 11,
   "id": "24a273dd",
   "metadata": {},
   "outputs": [
    {
     "name": "stderr",
     "output_type": "stream",
     "text": [
      "                                                                                \r"
     ]
    },
    {
     "name": "stdout",
     "output_type": "stream",
     "text": [
      "+------------+--------+\n",
      "|service_type|   count|\n",
      "+------------+--------+\n",
      "|       green| 2304517|\n",
      "|      yellow|39649199|\n",
      "+------------+--------+\n",
      "\n"
     ]
    }
   ],
   "source": [
    "df_trips_data.groupBy('service_type').count().show()"
   ]
  },
  {
   "cell_type": "markdown",
   "id": "978829f1",
   "metadata": {},
   "source": [
    "In order to run `spark.sql()`, we need to tell Spark what tables/dataframes exist for querying!"
   ]
  },
  {
   "cell_type": "code",
   "execution_count": 12,
   "id": "b49080c7",
   "metadata": {},
   "outputs": [
    {
     "name": "stderr",
     "output_type": "stream",
     "text": [
      "/opt/anaconda3/lib/python3.11/site-packages/pyspark/sql/dataframe.py:329: FutureWarning: Deprecated in 2.0, use createOrReplaceTempView instead.\n",
      "  warnings.warn(\"Deprecated in 2.0, use createOrReplaceTempView instead.\", FutureWarning)\n"
     ]
    }
   ],
   "source": [
    "df_trips_data.registerTempTable('trips_data')"
   ]
  },
  {
   "cell_type": "code",
   "execution_count": 13,
   "id": "53433f7c",
   "metadata": {},
   "outputs": [
    {
     "name": "stdout",
     "output_type": "stream",
     "text": [
      "+------------+--------+\n",
      "|service_type|count(1)|\n",
      "+------------+--------+\n",
      "|       green| 2304517|\n",
      "|      yellow|39649199|\n",
      "+------------+--------+\n",
      "\n"
     ]
    }
   ],
   "source": [
    "spark.sql(\"\"\"\n",
    "\n",
    "SELECT \n",
    "  service_type\n",
    ", COUNT(1)\n",
    "FROM trips_data\n",
    "GROUP BY 1\n",
    "-- LIMIT 10;\n",
    "\n",
    "\"\"\").show()"
   ]
  },
  {
   "cell_type": "markdown",
   "id": "3941e52d",
   "metadata": {},
   "source": [
    "Now, executing a more complicated query (taking `dim_monthly_zone_revenue.sql` from `04-analytics-engineering`, with some slight adjustments)..."
   ]
  },
  {
   "cell_type": "code",
   "execution_count": null,
   "id": "6a755f50",
   "metadata": {},
   "outputs": [],
   "source": [
    "df_result = spark.sql(\"\"\"\n",
    "SELECT \n",
    "  PULocationID AS revenue_zone \n",
    ", DATE_TRUNC('month', pickup_datetime) AS revenue_month\n",
    ", service_type \n",
    "\n",
    "/* Revenues */\n",
    ", SUM(fare_amount) AS revenue_monthly_fare\n",
    ", SUM(extra) AS revenue_monthly_extra\n",
    ", SUM(mta_tax) AS revenue_monthly_mta_tax\n",
    ", SUM(tip_amount) AS revenue_monthly_tip_amount\n",
    ", SUM(tolls_amount) AS revenue_monthly_tolls_amount\n",
    ", SUM(improvement_surcharge) AS revenue_monthly_improvement_surcharge\n",
    ", SUM(total_amount) AS revenue_monthly_total_amount\n",
    ", SUM(congestion_surcharge) AS revenue_monthly_congestion_surcharge\n",
    "\n",
    "/* Additional Calculations */\n",
    ", AVG(passenger_count) AS avg_monthly_passenger_count\n",
    ", AVG(trip_distance) AS avg_monthly_trip_distance\n",
    "FROM trips_data \n",
    "WHERE 1=1\n",
    "GROUP BY 1,2,3\n",
    "\"\"\")"
   ]
  },
  {
   "cell_type": "code",
   "execution_count": 18,
   "id": "cd3f046a",
   "metadata": {},
   "outputs": [],
   "source": [
    "# # Use `.coalesce()` (which acts like `.repartition()` to REDUCE the number of partitions!)\n",
    "# df_result.coalesce(1).write.parquet('data/report/revenue/', mode = 'overwrite')\n"
   ]
  },
  {
   "cell_type": "code",
   "execution_count": 19,
   "id": "9604a0a1",
   "metadata": {},
   "outputs": [
    {
     "name": "stderr",
     "output_type": "stream",
     "text": [
      "[Stage 11:=====================================================>  (23 + 1) / 24]\r"
     ]
    },
    {
     "name": "stdout",
     "output_type": "stream",
     "text": [
      "+------------+-------------------+------------+--------------------+---------------------+-----------------------+--------------------------+----------------------------+-------------------------------------+----------------------------+------------------------------------+---------------------------+-------------------------+\n",
      "|revenue_zone|      revenue_month|service_type|revenue_monthly_fare|revenue_monthly_extra|revenue_monthly_mta_tax|revenue_monthly_tip_amount|revenue_monthly_tolls_amount|revenue_monthly_improvement_surcharge|revenue_monthly_total_amount|revenue_monthly_congestion_surcharge|avg_monthly_passenger_count|avg_monthly_trip_distance|\n",
      "+------------+-------------------+------------+--------------------+---------------------+-----------------------+--------------------------+----------------------------+-------------------------------------+----------------------------+------------------------------------+---------------------------+-------------------------+\n",
      "|         196|2020-01-01 00:00:00|       green|   55130.42999999974|               2233.0|                 1325.0|        1941.0700000000008|           811.5400000000003|                    1011.599999999938|           62713.79000000236|                               258.5|         1.4023121387283237|       3.5389304197814835|\n",
      "|         184|2020-01-01 00:00:00|       green|              606.67|                31.25|                    7.0|                      9.76|          27.759999999999998|                   7.1999999999999975|           689.6400000000001|                                 0.0|                        1.8|        6.706249999999998|\n",
      "|         263|2020-02-01 00:00:00|       green|             6202.09|                446.0|                   99.5|         307.0100000000001|          219.75000000000009|                    96.89999999999972|           7640.500000000012|                              280.25|         1.4705882352941178|        4.208990825688073|\n",
      "|         231|2020-02-01 00:00:00|       green|   7730.470000000006|                589.5|                   13.5|                       0.0|          237.65000000000003|                    63.89999999999992|           8635.019999999995|                                 0.0|                        1.0|        9.673380281690138|\n",
      "|         100|2020-02-01 00:00:00|       green|             1632.92|               129.25|                    2.0|                       0.0|                      112.44|                   13.800000000000008|          1890.4099999999999|                                NULL|                       NULL|        10.92695652173913|\n",
      "|         252|2020-01-01 00:00:00|       green|   5875.359999999996|               305.75|                   32.0|        37.919999999999995|          367.20000000000016|                    62.09999999999977|           6680.330000000003|                                 0.0|                        1.1|        6.863824884792624|\n",
      "|         258|2020-02-01 00:00:00|       green|             8798.47|                698.0|                   43.5|                     69.59|          297.31000000000006|                    87.29999999999984|          10001.620000000003|                                 5.5|         1.1363636363636365|        6.450679611650486|\n",
      "|         207|2020-02-01 00:00:00|       green|               545.2|                 12.0|                   19.0|                       0.0|                       24.48|                   12.600000000000003|           613.2800000000002|                                 0.0|         1.0952380952380953|       1.7815217391304345|\n",
      "|         230|2020-01-01 00:00:00|       green|  1797.4099999999996|                121.0|                    3.0|                       0.0|           97.92000000000002|                   16.200000000000017|          2035.5300000000004|                                 0.0|                        1.0|        7.692142857142857|\n",
      "|          41|2019-12-01 00:00:00|       green|                20.5|                  1.5|                    1.5|                       0.0|                         0.0|                   0.8999999999999999|                       27.15|                                2.75|                        1.0|       1.2633333333333334|\n",
      "|          75|2009-01-01 00:00:00|       green|                92.5|                  0.5|                    1.5|                       0.0|                        6.55|                   0.8999999999999999|          104.69999999999999|                                2.75|                        1.0|       10.346666666666668|\n",
      "|         226|2020-02-01 00:00:00|       green|   45263.06000000008|              2496.25|                  948.0|        1798.9600000000005|          1155.2800000000007|                     738.600000000009|           53028.94999999994|                               737.0|         1.3070452155625658|        4.158928853754938|\n",
      "|          37|2020-02-01 00:00:00|       green|            23375.71|              1982.75|                  229.0|                    428.95|           527.5100000000002|                     284.100000000002|           26942.41999999996|                              104.25|         1.2318059299191375|        4.494921104536491|\n",
      "|         115|2020-02-01 00:00:00|       green|             1223.54|                 20.0|                   13.5|                       0.0|                       298.9|                    9.899999999999997|          1565.8399999999997|                                 0.0|         1.1724137931034482|       12.094285714285714|\n",
      "|         180|2020-01-01 00:00:00|       green|  4024.4599999999978|               210.75|                   26.0|                     20.24|           84.89000000000001|                   43.199999999999946|           4414.240000000002|                                2.75|         1.3396226415094339|        5.324473684210524|\n",
      "|          97|2020-01-01 00:00:00|       green|  165026.70999999935|               7922.0|                 5634.5|        16785.829999999914|           530.5100000000003|                    3702.300000000784|          202092.39999998402|                              2630.5|         1.1673425250067586|       2.7082440145869504|\n",
      "|         131|2020-02-01 00:00:00|       green|  12872.069999999982|               1067.5|                   58.5|                     62.22|          227.19000000000005|                   132.29999999999944|          14432.730000000021|                                11.0|         1.2173913043478262|        5.647755991285405|\n",
      "|         170|2020-01-01 00:00:00|       green|   6226.099999999998|                412.5|                   20.0|                       0.0|           627.7800000000003|                    57.89999999999981|           7344.279999999999|                                 0.0|                        1.0|          9.5339896373057|\n",
      "|          72|2020-01-01 00:00:00|       green|   37109.15000000008|              2685.25|                  302.0|                     62.29|           645.5600000000004|                    399.0000000000094|          41227.249999999935|                                8.25|         1.1075697211155378|        4.902881028938903|\n",
      "|          48|2020-01-01 00:00:00|       green|   3266.299999999999|                220.0|                   19.0|                       0.0|          128.00000000000003|                   32.700000000000045|          3666.0000000000005|                                 0.0|                        1.0|        7.997614678899081|\n",
      "+------------+-------------------+------------+--------------------+---------------------+-----------------------+--------------------------+----------------------------+-------------------------------------+----------------------------+------------------------------------+---------------------------+-------------------------+\n",
      "only showing top 20 rows\n",
      "\n"
     ]
    },
    {
     "name": "stderr",
     "output_type": "stream",
     "text": [
      "\r\n",
      "                                                                                \r"
     ]
    }
   ],
   "source": [
    "df_result.show()"
   ]
  },
  {
   "cell_type": "code",
   "execution_count": null,
   "id": "375b5b69",
   "metadata": {},
   "outputs": [],
   "source": []
  }
 ],
 "metadata": {
  "kernelspec": {
   "display_name": "Python 3 (ipykernel)",
   "language": "python",
   "name": "python3"
  },
  "language_info": {
   "codemirror_mode": {
    "name": "ipython",
    "version": 3
   },
   "file_extension": ".py",
   "mimetype": "text/x-python",
   "name": "python",
   "nbconvert_exporter": "python",
   "pygments_lexer": "ipython3",
   "version": "3.11.7"
  }
 },
 "nbformat": 4,
 "nbformat_minor": 5
}
