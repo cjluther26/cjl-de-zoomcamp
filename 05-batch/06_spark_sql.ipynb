{
 "cells": [
  {
   "cell_type": "code",
   "execution_count": 1,
   "id": "1eca3ffa",
   "metadata": {},
   "outputs": [],
   "source": [
    "import pyspark\n",
    "from pyspark.sql import SparkSession"
   ]
  },
  {
   "cell_type": "code",
   "execution_count": 3,
   "id": "20763ce6",
   "metadata": {},
   "outputs": [],
   "source": [
    "spark = SparkSession.builder \\\n",
    "    .master(\"local[*]\") \\\n",
    "    .appName('test') \\\n",
    "    .getOrCreate()"
   ]
  },
  {
   "cell_type": "code",
   "execution_count": 4,
   "id": "303ee506",
   "metadata": {},
   "outputs": [],
   "source": [
    "df_green = spark.read.parquet('data/pq/green/*/*')"
   ]
  },
  {
   "cell_type": "code",
   "execution_count": 7,
   "id": "4052dffd",
   "metadata": {},
   "outputs": [],
   "source": [
    "df_yellow = spark.read.parquet('data/pq/yellow/*/*')"
   ]
  },
  {
   "cell_type": "code",
   "execution_count": 6,
   "id": "3113b788",
   "metadata": {},
   "outputs": [
    {
     "name": "stdout",
     "output_type": "stream",
     "text": [
      "root\n",
      " |-- VendorID: integer (nullable = true)\n",
      " |-- lpep_pickup_datetime: timestamp (nullable = true)\n",
      " |-- lpep_dropoff_datetime: timestamp (nullable = true)\n",
      " |-- store_and_fwd_flag: string (nullable = true)\n",
      " |-- RatecodeID: integer (nullable = true)\n",
      " |-- PULocationID: integer (nullable = true)\n",
      " |-- DOLocationID: integer (nullable = true)\n",
      " |-- passenger_count: integer (nullable = true)\n",
      " |-- trip_distance: double (nullable = true)\n",
      " |-- fare_amount: double (nullable = true)\n",
      " |-- extra: double (nullable = true)\n",
      " |-- mta_tax: double (nullable = true)\n",
      " |-- tip_amount: double (nullable = true)\n",
      " |-- tolls_amount: double (nullable = true)\n",
      " |-- ehail_fee: double (nullable = true)\n",
      " |-- improvement_surcharge: double (nullable = true)\n",
      " |-- total_amount: double (nullable = true)\n",
      " |-- payment_type: integer (nullable = true)\n",
      " |-- trip_type: integer (nullable = true)\n",
      " |-- congestion_surcharge: double (nullable = true)\n",
      "\n"
     ]
    }
   ],
   "source": [
    "df_green.printSchema()\n",
    "# df_green.columns"
   ]
  },
  {
   "cell_type": "code",
   "execution_count": 8,
   "id": "8b7f62a2",
   "metadata": {},
   "outputs": [
    {
     "name": "stdout",
     "output_type": "stream",
     "text": [
      "root\n",
      " |-- VendorID: integer (nullable = true)\n",
      " |-- tpep_pickup_datetime: timestamp (nullable = true)\n",
      " |-- tpep_dropoff_datetime: timestamp (nullable = true)\n",
      " |-- passenger_count: integer (nullable = true)\n",
      " |-- trip_distance: double (nullable = true)\n",
      " |-- RatecodeID: integer (nullable = true)\n",
      " |-- store_and_fwd_flag: string (nullable = true)\n",
      " |-- PULocationID: integer (nullable = true)\n",
      " |-- DOLocationID: integer (nullable = true)\n",
      " |-- payment_type: integer (nullable = true)\n",
      " |-- fare_amount: double (nullable = true)\n",
      " |-- extra: double (nullable = true)\n",
      " |-- mta_tax: double (nullable = true)\n",
      " |-- tip_amount: double (nullable = true)\n",
      " |-- tolls_amount: double (nullable = true)\n",
      " |-- improvement_surcharge: double (nullable = true)\n",
      " |-- total_amount: double (nullable = true)\n",
      " |-- congestion_surcharge: double (nullable = true)\n",
      "\n"
     ]
    }
   ],
   "source": [
    "df_yellow.printSchema()\n",
    "# df_yellow.columns"
   ]
  },
  {
   "cell_type": "code",
   "execution_count": 9,
   "id": "cabb5716",
   "metadata": {},
   "outputs": [
    {
     "data": {
      "text/plain": [
       "{'DOLocationID',\n",
       " 'PULocationID',\n",
       " 'RatecodeID',\n",
       " 'VendorID',\n",
       " 'congestion_surcharge',\n",
       " 'dropoff_datetime',\n",
       " 'extra',\n",
       " 'fare_amount',\n",
       " 'improvement_surcharge',\n",
       " 'mta_tax',\n",
       " 'passenger_count',\n",
       " 'payment_type',\n",
       " 'pickup_datetime',\n",
       " 'store_and_fwd_flag',\n",
       " 'tip_amount',\n",
       " 'tolls_amount',\n",
       " 'total_amount',\n",
       " 'trip_distance'}"
      ]
     },
     "execution_count": 9,
     "metadata": {},
     "output_type": "execute_result"
    }
   ],
   "source": [
    "##### Get common columns \n",
    "\n",
    "# Change datetimes to 'pickup_datetime' and 'dropoff_datetime'\n",
    "df_green = df_green \\\n",
    "    .withColumnRenamed('lpep_pickup_datetime', 'pickup_datetime') \\\n",
    "    .withColumnRenamed('lpep_dropoff_datetime', 'dropoff_datetime')\n",
    "\n",
    "df_yellow = df_yellow \\\n",
    "    .withColumnRenamed('tpep_pickup_datetime', 'pickup_datetime') \\\n",
    "    .withColumnRenamed('tpep_dropoff_datetime', 'dropoff_datetime')\n",
    "\n",
    "set(df_green.columns) & set(df_yellow.columns)\n"
   ]
  },
  {
   "cell_type": "code",
   "execution_count": 11,
   "id": "216c460e",
   "metadata": {},
   "outputs": [
    {
     "data": {
      "text/plain": [
       "['VendorID',\n",
       " 'pickup_datetime',\n",
       " 'dropoff_datetime',\n",
       " 'store_and_fwd_flag',\n",
       " 'RatecodeID',\n",
       " 'PULocationID',\n",
       " 'DOLocationID',\n",
       " 'passenger_count',\n",
       " 'trip_distance',\n",
       " 'fare_amount',\n",
       " 'extra',\n",
       " 'mta_tax',\n",
       " 'tip_amount',\n",
       " 'tolls_amount',\n",
       " 'improvement_surcharge',\n",
       " 'total_amount',\n",
       " 'payment_type',\n",
       " 'congestion_surcharge']"
      ]
     },
     "execution_count": 11,
     "metadata": {},
     "output_type": "execute_result"
    }
   ],
   "source": [
    "# Saving common columns (preserving order!)\n",
    "common_columns = []\n",
    "\n",
    "yellow_columns = set(df_yellow.columns)\n",
    "\n",
    "for col in df_green.columns: \n",
    "    if col in yellow_columns:\n",
    "        common_columns.append(col)\n",
    "        \n",
    "common_columns"
   ]
  },
  {
   "cell_type": "code",
   "execution_count": 13,
   "id": "be5ef44c",
   "metadata": {},
   "outputs": [],
   "source": [
    "from pyspark.sql import functions as F"
   ]
  },
  {
   "cell_type": "code",
   "execution_count": 16,
   "id": "3c58564d",
   "metadata": {},
   "outputs": [],
   "source": [
    "df_green_sel = df_green \\\n",
    "    .select(common_columns) \\\n",
    "    .withColumn('service_type', F.lit('green'))\n",
    "\n",
    "df_yellow_sel = df_yellow \\\n",
    "    .select(common_columns) \\\n",
    "    .withColumn('service_type', F.lit('yellow'))\n",
    "\n",
    "df_trips_data = df_green_sel.unionAll(df_yellow_sel)"
   ]
  },
  {
   "cell_type": "code",
   "execution_count": 17,
   "id": "24a273dd",
   "metadata": {},
   "outputs": [
    {
     "name": "stderr",
     "output_type": "stream",
     "text": [
      "[Stage 3:======================================>                  (16 + 8) / 24]\r"
     ]
    },
    {
     "name": "stdout",
     "output_type": "stream",
     "text": [
      "+------------+--------+\n",
      "|service_type|   count|\n",
      "+------------+--------+\n",
      "|       green| 2304517|\n",
      "|      yellow|39649199|\n",
      "+------------+--------+\n",
      "\n"
     ]
    },
    {
     "name": "stderr",
     "output_type": "stream",
     "text": [
      "\r",
      "                                                                                \r"
     ]
    }
   ],
   "source": [
    "df_trips_data.groupBy('service_type').count().show()"
   ]
  },
  {
   "cell_type": "markdown",
   "id": "978829f1",
   "metadata": {},
   "source": [
    "In order to run `spark.sql()`, we need to tell Spark what tables/dataframes exist for querying!"
   ]
  },
  {
   "cell_type": "code",
   "execution_count": 19,
   "id": "b49080c7",
   "metadata": {},
   "outputs": [
    {
     "name": "stderr",
     "output_type": "stream",
     "text": [
      "/opt/anaconda3/lib/python3.11/site-packages/pyspark/sql/dataframe.py:329: FutureWarning: Deprecated in 2.0, use createOrReplaceTempView instead.\n",
      "  warnings.warn(\"Deprecated in 2.0, use createOrReplaceTempView instead.\", FutureWarning)\n"
     ]
    }
   ],
   "source": [
    "df_trips_data.registerTempTable('trips_data')"
   ]
  },
  {
   "cell_type": "code",
   "execution_count": 22,
   "id": "53433f7c",
   "metadata": {},
   "outputs": [
    {
     "name": "stdout",
     "output_type": "stream",
     "text": [
      "+------------+--------+\n",
      "|service_type|count(1)|\n",
      "+------------+--------+\n",
      "|       green| 2304517|\n",
      "|      yellow|39649199|\n",
      "+------------+--------+\n",
      "\n"
     ]
    }
   ],
   "source": [
    "spark.sql(\"\"\"\n",
    "\n",
    "SELECT \n",
    "  service_type\n",
    ", COUNT(1)\n",
    "FROM trips_data\n",
    "GROUP BY 1\n",
    "-- LIMIT 10;\n",
    "\n",
    "\"\"\").show()"
   ]
  },
  {
   "cell_type": "markdown",
   "id": "3941e52d",
   "metadata": {},
   "source": [
    "Now, executing a more complicated query (taking `dim_monthly_zone_revenue.sql` from `04-analytics-engineering`, with some slight adjustments)..."
   ]
  },
  {
   "cell_type": "code",
   "execution_count": 26,
   "id": "6a755f50",
   "metadata": {},
   "outputs": [],
   "source": [
    "df_result = spark.sql(\"\"\"\n",
    "SELECT \n",
    "  PULocationID AS revenue_zone \n",
    ", date_trunc('month', 'pickup_datetime') AS revenue_month\n",
    ", service_type \n",
    "\n",
    "/* Revenues */\n",
    ", SUM(fare_amount) AS revenue_monthly_fare\n",
    ", SUM(extra) AS revenue_monthly_extra\n",
    ", SUM(mta_tax) AS revenue_monthly_mta_tax\n",
    ", SUM(tip_amount) AS revenue_monthly_tip_amount\n",
    ", SUM(tolls_amount) AS revenue_monthly_tolls_amount\n",
    ", SUM(improvement_surcharge) AS revenue_monthly_improvement_surcharge\n",
    ", SUM(total_amount) AS revenue_monthly_total_amount\n",
    ", SUM(congestion_surcharge) AS revenue_monthly_congestion_surcharge\n",
    "\n",
    "/* Additional Calculations */\n",
    ", AVG(passenger_count) AS avg_monthly_passenger_count\n",
    ", AVG(trip_distance) AS avg_monthly_trip_distance\n",
    "FROM trips_data \n",
    "WHERE 1=1\n",
    "GROUP BY 1,2,3\n",
    "\"\"\")"
   ]
  },
  {
   "cell_type": "code",
   "execution_count": 27,
   "id": "cd3f046a",
   "metadata": {},
   "outputs": [
    {
     "name": "stderr",
     "output_type": "stream",
     "text": [
      "                                                                                \r"
     ]
    }
   ],
   "source": [
    "# Use `.coalesce()` (which acts like `.repartition()` to REDUCE the number of partitions!)\n",
    "df_result.coalesce(1).write.parquet('data/report/revenue/', mode = 'overwrite')\n"
   ]
  },
  {
   "cell_type": "code",
   "execution_count": 31,
   "id": "9604a0a1",
   "metadata": {},
   "outputs": [
    {
     "name": "stderr",
     "output_type": "stream",
     "text": [
      "[Stage 27:=======================================>                (17 + 7) / 24]\r"
     ]
    },
    {
     "name": "stdout",
     "output_type": "stream",
     "text": [
      "+------------+-------------+------------+--------------------+---------------------+-----------------------+--------------------------+----------------------------+-------------------------------------+----------------------------+------------------------------------+---------------------------+-------------------------+\n",
      "|revenue_zone|revenue_month|service_type|revenue_monthly_fare|revenue_monthly_extra|revenue_monthly_mta_tax|revenue_monthly_tip_amount|revenue_monthly_tolls_amount|revenue_monthly_improvement_surcharge|revenue_monthly_total_amount|revenue_monthly_congestion_surcharge|avg_monthly_passenger_count|avg_monthly_trip_distance|\n",
      "+------------+-------------+------------+--------------------+---------------------+-----------------------+--------------------------+----------------------------+-------------------------------------+----------------------------+------------------------------------+---------------------------+-------------------------+\n",
      "|         254|         NULL|       green|   278150.7100000002|             11320.52|                  854.5|                    9569.9|          13415.779999999957|                   2786.1000000000477|          316342.10999999905|                                22.0|          1.138095238095238|       249.57145962406813|\n",
      "|          38|         NULL|       green|   82767.60999999996|               2537.6|                  237.5|                   2433.53|           3530.910000000002|                    664.1999999999978|           92221.79999999999|                                2.75|         1.1342925659472423|        151.5832342657342|\n",
      "|         229|         NULL|       green|  13658.469999999998|                689.3|                   23.0|                    388.43|                       789.1|                    132.0000000000001|          15699.049999999997|                               13.25|         1.2222222222222223|         8.25965986394558|\n",
      "|         188|         NULL|       green|  430873.55000000075|             21162.42|                 1931.0|        19095.489999999998|           6813.590000000003|                    5714.400000000026|          486763.99999999895|                              348.75|         1.1596080910240203|        82.27654449456637|\n",
      "|         232|         NULL|       green|  40609.979999999996|   1913.9499999999998|                  64.55|        1314.6000000000001|          1395.4100000000003|                    403.4999999999994|           45729.53999999999|                                5.25|          1.069767441860465|        261.1684855233854|\n",
      "|          91|         NULL|       green|  250313.22000000064|   12562.130000000003|                  787.0|                   8716.69|                     6357.61|                   2745.3000000000457|          281822.25000000035|                                11.0|         1.1644120707596255|       150.86490212498694|\n",
      "|         134|         NULL|       green|  237161.71000000002|   10112.500000000002|                 5852.0|                  17749.85|           4267.540000000002|                    4513.199999999843|           280469.1500000046|                              734.25|         1.3807110815750125|       14.592568801313632|\n",
      "|         241|         NULL|       green|   146435.9700000001|              4976.45|                  874.5|         5909.280000000001|           5791.600000000004|                   1537.2000000000025|           165902.9499999996|                                82.5|         1.1257344300822563|       142.77369097091056|\n",
      "|         101|         NULL|       green|   39496.08999999998|   1367.1999999999998|                  112.0|        1092.3700000000001|           952.1200000000003|                   323.99999999999955|          43368.630000000005|                                22.0|                        1.2|       195.69598389982121|\n",
      "|          93|         NULL|       green|            30308.01|               655.65|                  297.5|                   2848.06|          1195.7500000000002|                    314.0999999999996|           35931.47000000003|                               291.5|         1.3621399176954732|        7.395726179463459|\n",
      "|         118|         NULL|       green|   4471.259999999999|                41.25|                   25.5|                     90.87|           650.9100000000001|                   23.699999999999996|                     5303.49|                                 0.0|          1.169811320754717|       18.348101265822784|\n",
      "|         189|         NULL|       green|   94516.57999999993|              4349.99|                 1131.0|                    7784.5|           769.1300000000001|                   1469.4000000000074|          111309.84999999973|                              700.25|         1.2221715328467153|       100.36491477842387|\n",
      "|         153|         NULL|       green|   44446.13999999998|   1739.5999999999997|                  314.0|                   1898.36|           836.8100000000001|                    538.4999999999985|           49846.36000000003|                                38.5|         1.1730769230769231|        85.14134782608694|\n",
      "|         221|         NULL|       green|   4423.110000000001|                 43.0|                   25.5|         97.50999999999999|                      650.65|                                 25.2|                     5278.72|                                 0.0|         1.5272727272727273|       15.346785714285716|\n",
      "|         225|         NULL|       green|   327440.8000000006|   15683.279999999997|                 1740.5|                  14035.02|           6848.680000000002|                    4104.900000000023|                   370806.53|                              257.75|          1.153555479216764|         26.1923850756776|\n",
      "|          76|         NULL|       green|   519384.7099999982|   22772.819999999992|                 1959.0|        17321.469999999998|          16248.769999999911|                    5437.200000000008|           583539.5200000033|                                8.25|         1.2111475409836066|           79.12579277698|\n",
      "|         227|         NULL|       green|  145901.41000000018|              4067.25|                  700.5|                   5313.89|          1879.9700000000007|                   1220.6999999999946|          159232.01999999964|                               41.25|          1.043778801843318|       30.871060496505198|\n",
      "|          94|         NULL|       green|   82998.72000000003|               3515.7|                  562.0|                   3282.34|           2794.860000000001|                   1018.7999999999948|           94344.32000000004|                                46.5|         1.1953612845673507|        75.99355281992554|\n",
      "|          52|         NULL|       green|  204883.63000000003|               6166.2|                 7813.5|        30908.170000000024|          1451.2800000000002|                    4981.799999999789|           262175.6300000048|                              6024.0|         1.2154023577652486|        5.637083707293724|\n",
      "|         160|         NULL|       green|   46051.61999999999|              1986.95|                  224.0|                   2058.21|          1289.8200000000002|                    539.0999999999984|           52245.80000000002|                                38.5|         1.2039473684210527|        9.662490483958676|\n",
      "+------------+-------------+------------+--------------------+---------------------+-----------------------+--------------------------+----------------------------+-------------------------------------+----------------------------+------------------------------------+---------------------------+-------------------------+\n",
      "only showing top 20 rows\n",
      "\n"
     ]
    },
    {
     "name": "stderr",
     "output_type": "stream",
     "text": [
      "\r",
      "[Stage 27:=====================================================>  (23 + 1) / 24]\r",
      "\r",
      "                                                                                \r"
     ]
    }
   ],
   "source": [
    "df_result.show()"
   ]
  },
  {
   "cell_type": "code",
   "execution_count": null,
   "id": "375b5b69",
   "metadata": {},
   "outputs": [],
   "source": []
  }
 ],
 "metadata": {
  "kernelspec": {
   "display_name": "Python 3 (ipykernel)",
   "language": "python",
   "name": "python3"
  },
  "language_info": {
   "codemirror_mode": {
    "name": "ipython",
    "version": 3
   },
   "file_extension": ".py",
   "mimetype": "text/x-python",
   "name": "python",
   "nbconvert_exporter": "python",
   "pygments_lexer": "ipython3",
   "version": "3.11.7"
  }
 },
 "nbformat": 4,
 "nbformat_minor": 5
}
