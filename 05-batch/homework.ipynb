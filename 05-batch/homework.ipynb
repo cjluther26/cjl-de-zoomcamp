{
 "cells": [
  {
   "cell_type": "code",
   "execution_count": 1,
   "id": "2b3909a0",
   "metadata": {},
   "outputs": [],
   "source": [
    "import pyspark\n",
    "from pyspark.sql import SparkSession"
   ]
  },
  {
   "cell_type": "code",
   "execution_count": 2,
   "id": "d65bf512",
   "metadata": {},
   "outputs": [
    {
     "name": "stderr",
     "output_type": "stream",
     "text": [
      "25/03/03 20:15:52 WARN Utils: Your hostname, MacBook-Pro.local resolves to a loopback address: 127.0.0.1; using 10.36.152.85 instead (on interface en0)\n",
      "25/03/03 20:15:52 WARN Utils: Set SPARK_LOCAL_IP if you need to bind to another address\n",
      "Setting default log level to \"WARN\".\n",
      "To adjust logging level use sc.setLogLevel(newLevel). For SparkR, use setLogLevel(newLevel).\n",
      "25/03/03 20:15:52 WARN NativeCodeLoader: Unable to load native-hadoop library for your platform... using builtin-java classes where applicable\n"
     ]
    }
   ],
   "source": [
    "spark = SparkSession.builder \\\n",
    "    .master(\"local[*]\") \\\n",
    "    .appName(\"test\") \\\n",
    "    .getOrCreate()"
   ]
  },
  {
   "cell_type": "code",
   "execution_count": 6,
   "id": "06f536e6",
   "metadata": {},
   "outputs": [
    {
     "data": {
      "text/plain": [
       "'3.5.4'"
      ]
     },
     "execution_count": 6,
     "metadata": {},
     "output_type": "execute_result"
    }
   ],
   "source": [
    "spark.version"
   ]
  },
  {
   "cell_type": "code",
   "execution_count": 3,
   "id": "f69d8980",
   "metadata": {},
   "outputs": [
    {
     "name": "stdout",
     "output_type": "stream",
     "text": [
      "--2025-03-03 20:16:38--  https://d37ci6vzurychx.cloudfront.net/trip-data/yellow_tripdata_2024-10.parquet\n",
      "Resolving d37ci6vzurychx.cloudfront.net (d37ci6vzurychx.cloudfront.net)... 108.138.245.58, 108.138.245.96, 108.138.245.16, ...\n",
      "Connecting to d37ci6vzurychx.cloudfront.net (d37ci6vzurychx.cloudfront.net)|108.138.245.58|:443... connected.\n",
      "HTTP request sent, awaiting response... 200 OK\n",
      "Length: 64346071 (61M) [binary/octet-stream]\n",
      "Saving to: ‘yellow_tripdata_2024-10.parquet’\n",
      "\n",
      "yellow_tripdata_202 100%[===================>]  61.36M  5.99MB/s    in 10s     \n",
      "\n",
      "2025-03-03 20:16:48 (6.00 MB/s) - ‘yellow_tripdata_2024-10.parquet’ saved [64346071/64346071]\n",
      "\n"
     ]
    }
   ],
   "source": [
    "# !wget https://d37ci6vzurychx.cloudfront.net/trip-data/yellow_tripdata_2024-10.parquet\n",
    "\n"
   ]
  },
  {
   "cell_type": "code",
   "execution_count": 4,
   "id": "e70a0593",
   "metadata": {},
   "outputs": [],
   "source": [
    "df = spark.read \\\n",
    "    .option(\"header\", \"true\") \\\n",
    "    .parquet(\"yellow_tripdata_2024-10.parquet\") \\\n",
    "    .repartition(4)\n"
   ]
  },
  {
   "cell_type": "code",
   "execution_count": 5,
   "id": "2377c0f0",
   "metadata": {},
   "outputs": [
    {
     "name": "stderr",
     "output_type": "stream",
     "text": [
      "                                                                                \r"
     ]
    }
   ],
   "source": [
    "df.write.parquet(\"yellow_taxi/2024/10/\")"
   ]
  },
  {
   "cell_type": "code",
   "execution_count": 15,
   "id": "1b9cfad8",
   "metadata": {},
   "outputs": [],
   "source": [
    "## How many taxi trips were there on the 15th of October?\n",
    "from pyspark.sql import functions as F\n",
    "\n",
    "df = df \\\n",
    "    .withColumn('pickup_date', F.to_date(df.tpep_pickup_datetime)) \\\n",
    "    .withColumn('dropoff_date', F.to_date(df.tpep_dropoff_datetime))\n"
   ]
  },
  {
   "cell_type": "code",
   "execution_count": 16,
   "id": "434fa94f",
   "metadata": {},
   "outputs": [
    {
     "data": {
      "text/plain": [
       "128893"
      ]
     },
     "execution_count": 16,
     "metadata": {},
     "output_type": "execute_result"
    }
   ],
   "source": [
    "df \\\n",
    "    .filter(df.pickup_date == \"2024-10-15\") \\\n",
    "    .count()\n"
   ]
  },
  {
   "cell_type": "code",
   "execution_count": 24,
   "id": "05a76b55",
   "metadata": {},
   "outputs": [
    {
     "name": "stdout",
     "output_type": "stream",
     "text": [
      "162.61777777777777\n"
     ]
    }
   ],
   "source": [
    "# # What is the length of the longest trip in the dataset in hours?\n",
    "df = df \\\n",
    "    .withColumn('trip_duration_hours', (F.unix_timestamp(df.tpep_dropoff_datetime) - F.unix_timestamp(df.tpep_pickup_datetime)) / 3600)\n",
    "\n",
    "longest_trip = df.agg(F.max(F.col(\"trip_duration_hours\")).alias(\"max_trip_duration\")).collect()[0][\"max_trip_duration\"]\n",
    "\n",
    "print(longest_trip)"
   ]
  },
  {
   "cell_type": "code",
   "execution_count": 26,
   "id": "27e32c30",
   "metadata": {},
   "outputs": [
    {
     "name": "stdout",
     "output_type": "stream",
     "text": [
      "--2025-03-03 20:40:40--  https://d37ci6vzurychx.cloudfront.net/misc/taxi_zone_lookup.csv\n",
      "Resolving d37ci6vzurychx.cloudfront.net (d37ci6vzurychx.cloudfront.net)... 108.138.245.96, 108.138.245.16, 108.138.245.58, ...\n",
      "Connecting to d37ci6vzurychx.cloudfront.net (d37ci6vzurychx.cloudfront.net)|108.138.245.96|:443... connected.\n",
      "HTTP request sent, awaiting response... 200 OK\n",
      "Length: 12331 (12K) [text/csv]\n",
      "Saving to: ‘taxi_zone_lookup.csv.1’\n",
      "\n",
      "taxi_zone_lookup.cs 100%[===================>]  12.04K  --.-KB/s    in 0s      \n",
      "\n",
      "2025-03-03 20:40:40 (29.6 MB/s) - ‘taxi_zone_lookup.csv.1’ saved [12331/12331]\n",
      "\n"
     ]
    }
   ],
   "source": [
    "!wget https://d37ci6vzurychx.cloudfront.net/misc/taxi_zone_lookup.csv"
   ]
  },
  {
   "cell_type": "code",
   "execution_count": 34,
   "id": "bae548a7",
   "metadata": {},
   "outputs": [
    {
     "data": {
      "text/plain": [
       "['LocationID', 'Borough', 'Zone', 'service_zone']"
      ]
     },
     "execution_count": 34,
     "metadata": {},
     "output_type": "execute_result"
    }
   ],
   "source": [
    "lookup_zones.columns"
   ]
  },
  {
   "cell_type": "code",
   "execution_count": 29,
   "id": "0f5a0848",
   "metadata": {},
   "outputs": [],
   "source": [
    "lookup_zones = spark.read \\\n",
    "    .option(\"header\", \"true\") \\\n",
    "    .csv(\"taxi_zone_lookup.csv\")\n",
    "\n",
    "lookup_zones.createOrReplaceTempView('lookup_zones')"
   ]
  },
  {
   "cell_type": "code",
   "execution_count": 38,
   "id": "d7afacfb",
   "metadata": {},
   "outputs": [
    {
     "name": "stdout",
     "output_type": "stream",
     "text": [
      "+--------------------+------+\n",
      "|                Zone| count|\n",
      "+--------------------+------+\n",
      "|           Homecrest|   263|\n",
      "|              Corona|   496|\n",
      "|    Bensonhurst West|   312|\n",
      "|          Douglaston|    74|\n",
      "|      Newark Airport|   555|\n",
      "|Charleston/Totten...|     4|\n",
      "|          Mount Hope|   339|\n",
      "|      Pelham Parkway|   178|\n",
      "|East Concourse/Co...|   683|\n",
      "|         Marble Hill|    73|\n",
      "|           Rego Park|   471|\n",
      "|Upper East Side S...|191011|\n",
      "|       Dyker Heights|   172|\n",
      "|   Kew Gardens Hills|   245|\n",
      "|       Rikers Island|     2|\n",
      "|     Jackson Heights|  1760|\n",
      "|             Bayside|   117|\n",
      "|      Yorkville West| 69757|\n",
      "|TriBeCa/Civic Center| 53604|\n",
      "|          Highbridge|   426|\n",
      "+--------------------+------+\n",
      "only showing top 20 rows\n",
      "\n"
     ]
    }
   ],
   "source": [
    "joined_df = df.join(lookup_zones, df.PULocationID == lookup_zones.LocationID, how = 'inner')\n",
    "\n",
    "joined_df \\\n",
    "    .groupBy('Zone') \\\n",
    "    .count() \\\n",
    "    .show()"
   ]
  },
  {
   "cell_type": "code",
   "execution_count": null,
   "id": "74fd7b3f",
   "metadata": {},
   "outputs": [],
   "source": []
  }
 ],
 "metadata": {
  "kernelspec": {
   "display_name": "Python 3 (ipykernel)",
   "language": "python",
   "name": "python3"
  },
  "language_info": {
   "codemirror_mode": {
    "name": "ipython",
    "version": 3
   },
   "file_extension": ".py",
   "mimetype": "text/x-python",
   "name": "python",
   "nbconvert_exporter": "python",
   "pygments_lexer": "ipython3",
   "version": "3.11.7"
  }
 },
 "nbformat": 4,
 "nbformat_minor": 5
}
